{
 "cells": [
  {
   "cell_type": "code",
   "execution_count": null,
   "metadata": {},
   "outputs": [],
   "source": [
    "Проект: вариант 1\n",
    "    \n",
    "Представьте, что вы работаете в компании, которая разрабатывает мобильные игры. К вам пришел менеджер с рядом задач по \n",
    "исследованию нескольких аспектов мобильного приложения:\n",
    "\n",
    "В первую очередь, его интересует показатель retention. Напишите функцию для его подсчета.\n",
    "Помимо этого, в компании провели A/B тестирование наборов акционных предложений. На основе имеющихся данных определите, \n",
    "какой набор можно считать лучшим и на основе каких метрик стоит принять правильное решение.\n",
    "Предложите метрики для оценки результатов последнего прошедшего тематического события в игре."
   ]
  },
  {
   "cell_type": "code",
   "execution_count": null,
   "metadata": {},
   "outputs": [],
   "source": [
    "Задание 1\n",
    "Retention – один из самых важных показателей в компании. Ваша задача – написать функцию, которая будет считать retention \n",
    "игроков (по дням от даты регистрации игрока). Данные лежат в папке shared и имеют следующую структуру:\n",
    "\n",
    "shared/problem1-reg_data.csv – данные о времени регистрации\n",
    "shared/problem1-auth_data.csv – данные о времени захода пользователей в игру\n",
    "\n",
    "Функция должна быть написана на python. В ходе решения можно тестировать работу функции как на полном датасете, так и на \n",
    "части (сэмпле) данных."
   ]
  },
  {
   "cell_type": "code",
   "execution_count": null,
   "metadata": {},
   "outputs": [],
   "source": [
    "План исследования\n",
    "Задание 1\n",
    "1. Загрузка данных\n",
    "2. Предварительный анализ данных \n",
    "3. Преобразование данных в формат даты \n",
    "4. Функция для подсчета retention\n",
    "Задание 2\n",
    "1. Загрузка данных\n",
    "2. Предварительный анализ данных \n",
    "3. Расчет результатов A/B теста для тестовой и контрольной групп\n",
    "4. Проверка статистической значимости\n",
    "5. Выводы\n",
    "Задание 3\n",
    "1. Метрики для оценки результатов события\n",
    "2. Изменения в наборе метрик при усложнении механики\n",
    "3. Выводы"
   ]
  },
  {
   "cell_type": "code",
   "execution_count": null,
   "metadata": {},
   "outputs": [],
   "source": [
    "1. Загрузка данных"
   ]
  },
  {
   "cell_type": "code",
   "execution_count": 1,
   "metadata": {},
   "outputs": [],
   "source": [
    "import pandas as pd\n",
    "from scipy import stats\n",
    "import matplotlib.pyplot as plt\n",
    "import seaborn as sns\n",
    "import numpy as np"
   ]
  },
  {
   "cell_type": "code",
   "execution_count": 2,
   "metadata": {},
   "outputs": [],
   "source": [
    "# Загрузка данных\n",
    "registration_data = pd.read_csv('problem1-reg_data.csv', sep=';')  \n",
    "activity_data = pd.read_csv('problem1-auth_data.csv', sep=';') \n"
   ]
  },
  {
   "cell_type": "code",
   "execution_count": null,
   "metadata": {},
   "outputs": [],
   "source": [
    "2. Предварительный анализ данных "
   ]
  },
  {
   "cell_type": "code",
   "execution_count": 3,
   "metadata": {},
   "outputs": [
    {
     "data": {
      "text/html": [
       "<div>\n",
       "<style scoped>\n",
       "    .dataframe tbody tr th:only-of-type {\n",
       "        vertical-align: middle;\n",
       "    }\n",
       "\n",
       "    .dataframe tbody tr th {\n",
       "        vertical-align: top;\n",
       "    }\n",
       "\n",
       "    .dataframe thead th {\n",
       "        text-align: right;\n",
       "    }\n",
       "</style>\n",
       "<table border=\"1\" class=\"dataframe\">\n",
       "  <thead>\n",
       "    <tr style=\"text-align: right;\">\n",
       "      <th></th>\n",
       "      <th>reg_ts</th>\n",
       "      <th>uid</th>\n",
       "    </tr>\n",
       "  </thead>\n",
       "  <tbody>\n",
       "    <tr>\n",
       "      <th>0</th>\n",
       "      <td>911382223</td>\n",
       "      <td>1</td>\n",
       "    </tr>\n",
       "    <tr>\n",
       "      <th>1</th>\n",
       "      <td>932683089</td>\n",
       "      <td>2</td>\n",
       "    </tr>\n",
       "    <tr>\n",
       "      <th>2</th>\n",
       "      <td>947802447</td>\n",
       "      <td>3</td>\n",
       "    </tr>\n",
       "    <tr>\n",
       "      <th>3</th>\n",
       "      <td>959523541</td>\n",
       "      <td>4</td>\n",
       "    </tr>\n",
       "    <tr>\n",
       "      <th>4</th>\n",
       "      <td>969103313</td>\n",
       "      <td>5</td>\n",
       "    </tr>\n",
       "  </tbody>\n",
       "</table>\n",
       "</div>"
      ],
      "text/plain": [
       "      reg_ts  uid\n",
       "0  911382223    1\n",
       "1  932683089    2\n",
       "2  947802447    3\n",
       "3  959523541    4\n",
       "4  969103313    5"
      ]
     },
     "execution_count": 3,
     "metadata": {},
     "output_type": "execute_result"
    }
   ],
   "source": [
    "# Анализ данных о регистрации\n",
    "registration_data.head() "
   ]
  },
  {
   "cell_type": "code",
   "execution_count": 4,
   "metadata": {},
   "outputs": [
    {
     "name": "stdout",
     "output_type": "stream",
     "text": [
      "<class 'pandas.core.frame.DataFrame'>\n",
      "RangeIndex: 1000000 entries, 0 to 999999\n",
      "Data columns (total 2 columns):\n",
      " #   Column  Non-Null Count    Dtype\n",
      "---  ------  --------------    -----\n",
      " 0   reg_ts  1000000 non-null  int64\n",
      " 1   uid     1000000 non-null  int64\n",
      "dtypes: int64(2)\n",
      "memory usage: 15.3 MB\n"
     ]
    }
   ],
   "source": [
    "registration_data.info()  "
   ]
  },
  {
   "cell_type": "code",
   "execution_count": 5,
   "metadata": {},
   "outputs": [
    {
     "data": {
      "text/plain": [
       "reg_ts    0\n",
       "uid       0\n",
       "dtype: int64"
      ]
     },
     "execution_count": 5,
     "metadata": {},
     "output_type": "execute_result"
    }
   ],
   "source": [
    "# Проверка на пропущенные значения\n",
    "registration_data.isnull().sum()"
   ]
  },
  {
   "cell_type": "code",
   "execution_count": 6,
   "metadata": {},
   "outputs": [
    {
     "data": {
      "text/plain": [
       "0"
      ]
     },
     "execution_count": 6,
     "metadata": {},
     "output_type": "execute_result"
    }
   ],
   "source": [
    "# Проверка на дубликаты\n",
    "registration_data.duplicated().sum()"
   ]
  },
  {
   "cell_type": "code",
   "execution_count": 7,
   "metadata": {},
   "outputs": [
    {
     "data": {
      "text/html": [
       "<div>\n",
       "<style scoped>\n",
       "    .dataframe tbody tr th:only-of-type {\n",
       "        vertical-align: middle;\n",
       "    }\n",
       "\n",
       "    .dataframe tbody tr th {\n",
       "        vertical-align: top;\n",
       "    }\n",
       "\n",
       "    .dataframe thead th {\n",
       "        text-align: right;\n",
       "    }\n",
       "</style>\n",
       "<table border=\"1\" class=\"dataframe\">\n",
       "  <thead>\n",
       "    <tr style=\"text-align: right;\">\n",
       "      <th></th>\n",
       "      <th>auth_ts</th>\n",
       "      <th>uid</th>\n",
       "    </tr>\n",
       "  </thead>\n",
       "  <tbody>\n",
       "    <tr>\n",
       "      <th>0</th>\n",
       "      <td>911382223</td>\n",
       "      <td>1</td>\n",
       "    </tr>\n",
       "    <tr>\n",
       "      <th>1</th>\n",
       "      <td>932683089</td>\n",
       "      <td>2</td>\n",
       "    </tr>\n",
       "    <tr>\n",
       "      <th>2</th>\n",
       "      <td>932921206</td>\n",
       "      <td>2</td>\n",
       "    </tr>\n",
       "    <tr>\n",
       "      <th>3</th>\n",
       "      <td>933393015</td>\n",
       "      <td>2</td>\n",
       "    </tr>\n",
       "    <tr>\n",
       "      <th>4</th>\n",
       "      <td>933875379</td>\n",
       "      <td>2</td>\n",
       "    </tr>\n",
       "  </tbody>\n",
       "</table>\n",
       "</div>"
      ],
      "text/plain": [
       "     auth_ts  uid\n",
       "0  911382223    1\n",
       "1  932683089    2\n",
       "2  932921206    2\n",
       "3  933393015    2\n",
       "4  933875379    2"
      ]
     },
     "execution_count": 7,
     "metadata": {},
     "output_type": "execute_result"
    }
   ],
   "source": [
    "# Анализ данных об авторизации\n",
    "activity_data.head() \n"
   ]
  },
  {
   "cell_type": "code",
   "execution_count": 8,
   "metadata": {},
   "outputs": [
    {
     "name": "stdout",
     "output_type": "stream",
     "text": [
      "<class 'pandas.core.frame.DataFrame'>\n",
      "RangeIndex: 9601013 entries, 0 to 9601012\n",
      "Data columns (total 2 columns):\n",
      " #   Column   Dtype\n",
      "---  ------   -----\n",
      " 0   auth_ts  int64\n",
      " 1   uid      int64\n",
      "dtypes: int64(2)\n",
      "memory usage: 146.5 MB\n"
     ]
    }
   ],
   "source": [
    "activity_data.info() "
   ]
  },
  {
   "cell_type": "code",
   "execution_count": 9,
   "metadata": {},
   "outputs": [
    {
     "data": {
      "text/plain": [
       "auth_ts    0\n",
       "uid        0\n",
       "dtype: int64"
      ]
     },
     "execution_count": 9,
     "metadata": {},
     "output_type": "execute_result"
    }
   ],
   "source": [
    "# Проверка на пропущенные значения\n",
    "activity_data.isnull().sum()"
   ]
  },
  {
   "cell_type": "code",
   "execution_count": 10,
   "metadata": {},
   "outputs": [
    {
     "data": {
      "text/plain": [
       "0"
      ]
     },
     "execution_count": 10,
     "metadata": {},
     "output_type": "execute_result"
    }
   ],
   "source": [
    "# Проверка на дубликаты\n",
    "activity_data.duplicated().sum()"
   ]
  },
  {
   "cell_type": "code",
   "execution_count": null,
   "metadata": {},
   "outputs": [],
   "source": [
    "3. Преобразование данных в формат даты "
   ]
  },
  {
   "cell_type": "code",
   "execution_count": 11,
   "metadata": {},
   "outputs": [
    {
     "data": {
      "text/html": [
       "<div>\n",
       "<style scoped>\n",
       "    .dataframe tbody tr th:only-of-type {\n",
       "        vertical-align: middle;\n",
       "    }\n",
       "\n",
       "    .dataframe tbody tr th {\n",
       "        vertical-align: top;\n",
       "    }\n",
       "\n",
       "    .dataframe thead th {\n",
       "        text-align: right;\n",
       "    }\n",
       "</style>\n",
       "<table border=\"1\" class=\"dataframe\">\n",
       "  <thead>\n",
       "    <tr style=\"text-align: right;\">\n",
       "      <th></th>\n",
       "      <th>reg_ts</th>\n",
       "      <th>uid</th>\n",
       "    </tr>\n",
       "  </thead>\n",
       "  <tbody>\n",
       "    <tr>\n",
       "      <th>0</th>\n",
       "      <td>1998-11-18 09:43:43</td>\n",
       "      <td>1</td>\n",
       "    </tr>\n",
       "    <tr>\n",
       "      <th>1</th>\n",
       "      <td>1999-07-22 22:38:09</td>\n",
       "      <td>2</td>\n",
       "    </tr>\n",
       "    <tr>\n",
       "      <th>2</th>\n",
       "      <td>2000-01-13 22:27:27</td>\n",
       "      <td>3</td>\n",
       "    </tr>\n",
       "    <tr>\n",
       "      <th>3</th>\n",
       "      <td>2000-05-28 14:19:01</td>\n",
       "      <td>4</td>\n",
       "    </tr>\n",
       "    <tr>\n",
       "      <th>4</th>\n",
       "      <td>2000-09-16 11:21:53</td>\n",
       "      <td>5</td>\n",
       "    </tr>\n",
       "  </tbody>\n",
       "</table>\n",
       "</div>"
      ],
      "text/plain": [
       "               reg_ts  uid\n",
       "0 1998-11-18 09:43:43    1\n",
       "1 1999-07-22 22:38:09    2\n",
       "2 2000-01-13 22:27:27    3\n",
       "3 2000-05-28 14:19:01    4\n",
       "4 2000-09-16 11:21:53    5"
      ]
     },
     "execution_count": 11,
     "metadata": {},
     "output_type": "execute_result"
    }
   ],
   "source": [
    "# Преобразование столбца reg_ts в формат даты\n",
    "registration_data['reg_ts'] = pd.to_datetime(registration_data['reg_ts'], unit='s')\n",
    "\n",
    "# Проверка данных после преобразования\n",
    "registration_data.head()"
   ]
  },
  {
   "cell_type": "code",
   "execution_count": 12,
   "metadata": {},
   "outputs": [
    {
     "data": {
      "text/html": [
       "<div>\n",
       "<style scoped>\n",
       "    .dataframe tbody tr th:only-of-type {\n",
       "        vertical-align: middle;\n",
       "    }\n",
       "\n",
       "    .dataframe tbody tr th {\n",
       "        vertical-align: top;\n",
       "    }\n",
       "\n",
       "    .dataframe thead th {\n",
       "        text-align: right;\n",
       "    }\n",
       "</style>\n",
       "<table border=\"1\" class=\"dataframe\">\n",
       "  <thead>\n",
       "    <tr style=\"text-align: right;\">\n",
       "      <th></th>\n",
       "      <th>auth_ts</th>\n",
       "      <th>uid</th>\n",
       "    </tr>\n",
       "  </thead>\n",
       "  <tbody>\n",
       "    <tr>\n",
       "      <th>0</th>\n",
       "      <td>1998-11-18 09:43:43</td>\n",
       "      <td>1</td>\n",
       "    </tr>\n",
       "    <tr>\n",
       "      <th>1</th>\n",
       "      <td>1999-07-22 22:38:09</td>\n",
       "      <td>2</td>\n",
       "    </tr>\n",
       "    <tr>\n",
       "      <th>2</th>\n",
       "      <td>1999-07-25 16:46:46</td>\n",
       "      <td>2</td>\n",
       "    </tr>\n",
       "    <tr>\n",
       "      <th>3</th>\n",
       "      <td>1999-07-31 03:50:15</td>\n",
       "      <td>2</td>\n",
       "    </tr>\n",
       "    <tr>\n",
       "      <th>4</th>\n",
       "      <td>1999-08-05 17:49:39</td>\n",
       "      <td>2</td>\n",
       "    </tr>\n",
       "  </tbody>\n",
       "</table>\n",
       "</div>"
      ],
      "text/plain": [
       "              auth_ts  uid\n",
       "0 1998-11-18 09:43:43    1\n",
       "1 1999-07-22 22:38:09    2\n",
       "2 1999-07-25 16:46:46    2\n",
       "3 1999-07-31 03:50:15    2\n",
       "4 1999-08-05 17:49:39    2"
      ]
     },
     "execution_count": 12,
     "metadata": {},
     "output_type": "execute_result"
    }
   ],
   "source": [
    "# Преобразование столбца auth_ts в формат даты\n",
    "activity_data['auth_ts'] = pd.to_datetime(activity_data['auth_ts'], unit='s')\n",
    "\n",
    "# Проверка данных после преобразования\n",
    "activity_data.head()"
   ]
  },
  {
   "cell_type": "code",
   "execution_count": 13,
   "metadata": {},
   "outputs": [
    {
     "name": "stdout",
     "output_type": "stream",
     "text": [
      "Диапазон дат регистрации:\n",
      "Минимальная дата: 1998-11-18 09:43:43\n",
      "Максимальная дата: 2020-09-23 15:17:24\n"
     ]
    }
   ],
   "source": [
    "print(\"Диапазон дат регистрации:\")\n",
    "print(f\"Минимальная дата: {registration_data['reg_ts'].min()}\")\n",
    "print(f\"Максимальная дата: {registration_data['reg_ts'].max()}\")"
   ]
  },
  {
   "cell_type": "code",
   "execution_count": 14,
   "metadata": {},
   "outputs": [
    {
     "name": "stdout",
     "output_type": "stream",
     "text": [
      "Диапазон дат авторизации:\n",
      "Минимальная дата: 1998-11-18 09:43:43\n",
      "Максимальная дата: 2020-09-23 15:17:24\n"
     ]
    }
   ],
   "source": [
    "print(\"Диапазон дат авторизации:\")\n",
    "print(f\"Минимальная дата: {activity_data['auth_ts'].min()}\")\n",
    "print(f\"Максимальная дата: {activity_data['auth_ts'].max()}\")"
   ]
  },
  {
   "cell_type": "code",
   "execution_count": 15,
   "metadata": {},
   "outputs": [
    {
     "name": "stdout",
     "output_type": "stream",
     "text": [
      "Количество уникальных пользователей по годам:\n",
      "     Год  Регистрация\n",
      "0   1998            1\n",
      "1   1999            1\n",
      "2   2000            4\n",
      "3   2001            6\n",
      "4   2002           10\n",
      "5   2003           20\n",
      "6   2004           35\n",
      "7   2005           65\n",
      "8   2006          119\n",
      "9   2007          216\n",
      "10  2008          394\n",
      "11  2009          718\n",
      "12  2010         1308\n",
      "13  2011         2385\n",
      "14  2012         4361\n",
      "15  2013         7932\n",
      "16  2014        14455\n",
      "17  2015        26344\n",
      "18  2016        48187\n",
      "19  2017        87645\n",
      "20  2018       159729\n",
      "21  2019       291102\n",
      "22  2020       354963\n"
     ]
    }
   ],
   "source": [
    "# Добавляем столбец с годом регистрации\n",
    "registration_data['reg_year'] = registration_data['reg_ts'].dt.year\n",
    "\n",
    "# Считаем количество уникальных uid по годам для регистрации\n",
    "registration_counts = registration_data.groupby('reg_year')['uid'].nunique().reset_index()\n",
    "registration_counts.columns = ['Год', 'Регистрация']\n",
    "\n",
    "# Выводим результаты\n",
    "print(\"Количество уникальных пользователей по годам:\")\n",
    "print(registration_counts)\n"
   ]
  },
  {
   "cell_type": "code",
   "execution_count": 16,
   "metadata": {},
   "outputs": [
    {
     "name": "stdout",
     "output_type": "stream",
     "text": [
      "Количество уникальных пользователей по годам:\n",
      "     Год  Авторизация\n",
      "0   1998            1\n",
      "1   1999            1\n",
      "2   2000            5\n",
      "3   2001            7\n",
      "4   2002           11\n",
      "5   2003           21\n",
      "6   2004           37\n",
      "7   2005           66\n",
      "8   2006          122\n",
      "9   2007          227\n",
      "10  2008          415\n",
      "11  2009          754\n",
      "12  2010         1376\n",
      "13  2011         2531\n",
      "14  2012         4638\n",
      "15  2013         8448\n",
      "16  2014        15422\n",
      "17  2015        28128\n",
      "18  2016        51461\n",
      "19  2017        93667\n",
      "20  2018       170777\n",
      "21  2019       311202\n",
      "22  2020       391646\n"
     ]
    }
   ],
   "source": [
    "# Добавляем столбец с годом авторизации\n",
    "activity_data['auth_year'] = activity_data['auth_ts'].dt.year\n",
    "\n",
    "# Считаем количество уникальных uid по годам для авторизации\n",
    "activity_counts = activity_data.groupby('auth_year')['uid'].nunique().reset_index()\n",
    "activity_counts.columns = ['Год', 'Авторизация']\n",
    "\n",
    "# Выводим результаты\n",
    "print(\"Количество уникальных пользователей по годам:\")\n",
    "print(activity_counts)\n"
   ]
  },
  {
   "cell_type": "code",
   "execution_count": null,
   "metadata": {},
   "outputs": [],
   "source": [
    "4. Функция для подсчета retention"
   ]
  },
  {
   "cell_type": "code",
   "execution_count": 17,
   "metadata": {},
   "outputs": [
    {
     "data": {
      "image/png": "[encoded data removed]",
      "text/plain": [
       "<Figure size 720x432 with 2 Axes>"
      ]
     },
     "metadata": {
      "needs_background": "light"
     },
     "output_type": "display_data"
    }
   ],
   "source": [
    "def calculate_retention(registration_data, activity_data, period=None, number_of_days=7):\n",
    "    \"\"\"\n",
    "    Рассчитывает коэффициент удержания пользователей на основе данных о регистрации и активности.\n",
    "\n",
    "    Параметры:\n",
    "    registration_data (DataFrame): Данные о регистрации пользователей, содержащие столбцы 'uid' и 'reg_ts'.\n",
    "    activity_data (DataFrame): Данные о активности пользователей, содержащие столбцы 'uid' и 'auth_ts'.\n",
    "    period (tuple, optional): Кортеж из двух строковых значений, представляющих начальную и конечную даты \n",
    "                              (в формате 'YYYY-MM-DD') для фильтрации данных о регистрации. \n",
    "                              Если не указано, используются все данные.\n",
    "    number_of_days (int, optional): Максимальное количество дней после регистрации для расчета удержания. \n",
    "                                      По умолчанию равно 7.\n",
    "\n",
    "    Возвращает:\n",
    "    DataFrame: Матрица удержания, где строки представляют даты регистрации, \n",
    "                а столбцы - дни после регистрации, заполненные процентами удержания пользователей.\n",
    "    \"\"\"\n",
    "    # Преобразуем в даты и фильтруем по нужному периоду\n",
    "    if registration_data['reg_ts'].dtype != 'period[D]':\n",
    "        registration_data['reg_ts'] = pd.to_datetime(registration_data['reg_ts'], unit='s').dt.to_period('D')\n",
    "    if activity_data['auth_ts'].dtype != 'period[D]':\n",
    "        activity_data['auth_ts'] = pd.to_datetime(activity_data['auth_ts'], unit='s').dt.to_period('D')\n",
    "\n",
    "    if period is not None:\n",
    "        registration_data = registration_data[registration_data['reg_ts'].between(pd.Period(period[0], 'D'), \n",
    "                                                                                  pd.Period(period[1], 'D'))]\n",
    "\n",
    "    # Объединяем данные о регистрации и активности\n",
    "    merged = activity_data.merge(registration_data[['uid', 'reg_ts']], on='uid', how='inner')[['uid', 'reg_ts', 'auth_ts']]\n",
    "    \n",
    "    # Считаем дни от регистрации\n",
    "    merged['days_after_reg'] = (merged['auth_ts'] - merged['reg_ts']).apply(lambda x: x.n)\n",
    "\n",
    "    # Убираем действия вне нужного интервала\n",
    "    merged = merged[merged['days_after_reg'].between(0, number_of_days)]\n",
    "\n",
    "    # Считаем retention: сколько уникальных пользователей было в каждый день после регистрации\n",
    "    cohort_pivot = (\n",
    "        merged\n",
    "        .groupby(['reg_ts', 'days_after_reg'])['uid']\n",
    "        .nunique()\n",
    "        .unstack(fill_value=0)\n",
    "    )\n",
    "\n",
    "    # Количество новых пользователей в каждый день\n",
    "    cohort_sizes = cohort_pivot[0]\n",
    "\n",
    "    # Делим на количество регистраций, чтобы получить retention в %\n",
    "    retention_matrix = cohort_pivot.divide(cohort_sizes, axis=0) * 100\n",
    "\n",
    "    # Визуализация\n",
    "    plt.figure(figsize=(10, 6))\n",
    "    sns.heatmap(retention_matrix, annot=True, fmt=\".1f\", cmap=\"Reds\")\n",
    "    plt.title('Матрица удержания (%)')\n",
    "    plt.xlabel('Дни после регистрации')\n",
    "    plt.ylabel('Дата регистрации')\n",
    "    plt.show()\n",
    "\n",
    "    return retention_matrix\n",
    "\n",
    "# Тестирование функции на данных с фильтрацией по датам\n",
    "retention_result = calculate_retention(\n",
    "    registration_data,\n",
    "    activity_data,\n",
    "    period=('2015-01-01', '2015-01-07'),\n",
    "    number_of_days=7\n",
    ")\n",
    "\n"
   ]
  },
  {
   "cell_type": "code",
   "execution_count": 18,
   "metadata": {},
   "outputs": [
    {
     "data": {
      "text/html": [
       "<div>\n",
       "<style scoped>\n",
       "    .dataframe tbody tr th:only-of-type {\n",
       "        vertical-align: middle;\n",
       "    }\n",
       "\n",
       "    .dataframe tbody tr th {\n",
       "        vertical-align: top;\n",
       "    }\n",
       "\n",
       "    .dataframe thead th {\n",
       "        text-align: right;\n",
       "    }\n",
       "</style>\n",
       "<table border=\"1\" class=\"dataframe\">\n",
       "  <thead>\n",
       "    <tr style=\"text-align: right;\">\n",
       "      <th>days_after_reg</th>\n",
       "      <th>0</th>\n",
       "      <th>1</th>\n",
       "      <th>2</th>\n",
       "      <th>3</th>\n",
       "      <th>4</th>\n",
       "      <th>5</th>\n",
       "      <th>6</th>\n",
       "      <th>7</th>\n",
       "    </tr>\n",
       "    <tr>\n",
       "      <th>reg_ts</th>\n",
       "      <th></th>\n",
       "      <th></th>\n",
       "      <th></th>\n",
       "      <th></th>\n",
       "      <th></th>\n",
       "      <th></th>\n",
       "      <th></th>\n",
       "      <th></th>\n",
       "    </tr>\n",
       "  </thead>\n",
       "  <tbody>\n",
       "    <tr>\n",
       "      <th>2015-01-01</th>\n",
       "      <td>100.0</td>\n",
       "      <td>3.846154</td>\n",
       "      <td>1.923077</td>\n",
       "      <td>3.846154</td>\n",
       "      <td>3.846154</td>\n",
       "      <td>7.692308</td>\n",
       "      <td>1.923077</td>\n",
       "      <td>7.692308</td>\n",
       "    </tr>\n",
       "    <tr>\n",
       "      <th>2015-01-02</th>\n",
       "      <td>100.0</td>\n",
       "      <td>3.773585</td>\n",
       "      <td>3.773585</td>\n",
       "      <td>9.433962</td>\n",
       "      <td>3.773585</td>\n",
       "      <td>3.773585</td>\n",
       "      <td>5.660377</td>\n",
       "      <td>7.547170</td>\n",
       "    </tr>\n",
       "    <tr>\n",
       "      <th>2015-01-03</th>\n",
       "      <td>100.0</td>\n",
       "      <td>3.773585</td>\n",
       "      <td>3.773585</td>\n",
       "      <td>1.886792</td>\n",
       "      <td>1.886792</td>\n",
       "      <td>9.433962</td>\n",
       "      <td>5.660377</td>\n",
       "      <td>5.660377</td>\n",
       "    </tr>\n",
       "    <tr>\n",
       "      <th>2015-01-04</th>\n",
       "      <td>100.0</td>\n",
       "      <td>3.773585</td>\n",
       "      <td>11.320755</td>\n",
       "      <td>5.660377</td>\n",
       "      <td>7.547170</td>\n",
       "      <td>13.207547</td>\n",
       "      <td>7.547170</td>\n",
       "      <td>5.660377</td>\n",
       "    </tr>\n",
       "    <tr>\n",
       "      <th>2015-01-05</th>\n",
       "      <td>100.0</td>\n",
       "      <td>0.000000</td>\n",
       "      <td>1.886792</td>\n",
       "      <td>3.773585</td>\n",
       "      <td>15.094340</td>\n",
       "      <td>7.547170</td>\n",
       "      <td>11.320755</td>\n",
       "      <td>3.773585</td>\n",
       "    </tr>\n",
       "    <tr>\n",
       "      <th>2015-01-06</th>\n",
       "      <td>100.0</td>\n",
       "      <td>1.886792</td>\n",
       "      <td>5.660377</td>\n",
       "      <td>3.773585</td>\n",
       "      <td>7.547170</td>\n",
       "      <td>5.660377</td>\n",
       "      <td>3.773585</td>\n",
       "      <td>7.547170</td>\n",
       "    </tr>\n",
       "    <tr>\n",
       "      <th>2015-01-07</th>\n",
       "      <td>100.0</td>\n",
       "      <td>0.000000</td>\n",
       "      <td>1.851852</td>\n",
       "      <td>5.555556</td>\n",
       "      <td>5.555556</td>\n",
       "      <td>3.703704</td>\n",
       "      <td>9.259259</td>\n",
       "      <td>5.555556</td>\n",
       "    </tr>\n",
       "  </tbody>\n",
       "</table>\n",
       "</div>"
      ],
      "text/plain": [
       "days_after_reg      0         1          2         3          4          5  \\\n",
       "reg_ts                                                                       \n",
       "2015-01-01      100.0  3.846154   1.923077  3.846154   3.846154   7.692308   \n",
       "2015-01-02      100.0  3.773585   3.773585  9.433962   3.773585   3.773585   \n",
       "2015-01-03      100.0  3.773585   3.773585  1.886792   1.886792   9.433962   \n",
       "2015-01-04      100.0  3.773585  11.320755  5.660377   7.547170  13.207547   \n",
       "2015-01-05      100.0  0.000000   1.886792  3.773585  15.094340   7.547170   \n",
       "2015-01-06      100.0  1.886792   5.660377  3.773585   7.547170   5.660377   \n",
       "2015-01-07      100.0  0.000000   1.851852  5.555556   5.555556   3.703704   \n",
       "\n",
       "days_after_reg          6         7  \n",
       "reg_ts                               \n",
       "2015-01-01       1.923077  7.692308  \n",
       "2015-01-02       5.660377  7.547170  \n",
       "2015-01-03       5.660377  5.660377  \n",
       "2015-01-04       7.547170  5.660377  \n",
       "2015-01-05      11.320755  3.773585  \n",
       "2015-01-06       3.773585  7.547170  \n",
       "2015-01-07       9.259259  5.555556  "
      ]
     },
     "execution_count": 18,
     "metadata": {},
     "output_type": "execute_result"
    }
   ],
   "source": [
    "retention_result"
   ]
  },
  {
   "cell_type": "code",
   "execution_count": null,
   "metadata": {},
   "outputs": [],
   "source": [
    "Задание 2\n",
    "Имеются результаты A/B теста, в котором двум группам пользователей предлагались различные наборы акционных предложений. \n",
    "Известно, что ARPU в тестовой группе выше на 5%, чем в контрольной. При этом в контрольной группе 1928 игроков из 202103 \n",
    "оказались платящими, а в тестовой – 1805 из 202667.\n",
    "\n",
    "Какой набор предложений можно считать лучшим? Какие метрики стоит проанализировать для принятия правильного решения и как?\n",
    "\n",
    "Формат данных: Проект_1_Задание_2.csv"
   ]
  },
  {
   "cell_type": "code",
   "execution_count": null,
   "metadata": {},
   "outputs": [],
   "source": [
    "1. Загрузка данных"
   ]
  },
  {
   "cell_type": "code",
   "execution_count": 19,
   "metadata": {},
   "outputs": [],
   "source": [
    "# Загрузка данных\n",
    "data = pd.read_csv('Проект_1_Задание_2.csv', sep=';')"
   ]
  },
  {
   "cell_type": "code",
   "execution_count": null,
   "metadata": {},
   "outputs": [],
   "source": [
    "2. Предварительный анализ данных "
   ]
  },
  {
   "cell_type": "code",
   "execution_count": 20,
   "metadata": {},
   "outputs": [
    {
     "data": {
      "text/html": [
       "<div>\n",
       "<style scoped>\n",
       "    .dataframe tbody tr th:only-of-type {\n",
       "        vertical-align: middle;\n",
       "    }\n",
       "\n",
       "    .dataframe tbody tr th {\n",
       "        vertical-align: top;\n",
       "    }\n",
       "\n",
       "    .dataframe thead th {\n",
       "        text-align: right;\n",
       "    }\n",
       "</style>\n",
       "<table border=\"1\" class=\"dataframe\">\n",
       "  <thead>\n",
       "    <tr style=\"text-align: right;\">\n",
       "      <th></th>\n",
       "      <th>user_id</th>\n",
       "      <th>revenue</th>\n",
       "      <th>testgroup</th>\n",
       "    </tr>\n",
       "  </thead>\n",
       "  <tbody>\n",
       "    <tr>\n",
       "      <th>0</th>\n",
       "      <td>1</td>\n",
       "      <td>0</td>\n",
       "      <td>b</td>\n",
       "    </tr>\n",
       "    <tr>\n",
       "      <th>1</th>\n",
       "      <td>2</td>\n",
       "      <td>0</td>\n",
       "      <td>a</td>\n",
       "    </tr>\n",
       "    <tr>\n",
       "      <th>2</th>\n",
       "      <td>3</td>\n",
       "      <td>0</td>\n",
       "      <td>a</td>\n",
       "    </tr>\n",
       "    <tr>\n",
       "      <th>3</th>\n",
       "      <td>4</td>\n",
       "      <td>0</td>\n",
       "      <td>b</td>\n",
       "    </tr>\n",
       "    <tr>\n",
       "      <th>4</th>\n",
       "      <td>5</td>\n",
       "      <td>0</td>\n",
       "      <td>b</td>\n",
       "    </tr>\n",
       "  </tbody>\n",
       "</table>\n",
       "</div>"
      ],
      "text/plain": [
       "   user_id  revenue testgroup\n",
       "0        1        0         b\n",
       "1        2        0         a\n",
       "2        3        0         a\n",
       "3        4        0         b\n",
       "4        5        0         b"
      ]
     },
     "execution_count": 20,
     "metadata": {},
     "output_type": "execute_result"
    }
   ],
   "source": [
    "# Анализ данных\n",
    "data.head() "
   ]
  },
  {
   "cell_type": "code",
   "execution_count": 21,
   "metadata": {},
   "outputs": [
    {
     "name": "stdout",
     "output_type": "stream",
     "text": [
      "<class 'pandas.core.frame.DataFrame'>\n",
      "RangeIndex: 404770 entries, 0 to 404769\n",
      "Data columns (total 3 columns):\n",
      " #   Column     Non-Null Count   Dtype \n",
      "---  ------     --------------   ----- \n",
      " 0   user_id    404770 non-null  int64 \n",
      " 1   revenue    404770 non-null  int64 \n",
      " 2   testgroup  404770 non-null  object\n",
      "dtypes: int64(2), object(1)\n",
      "memory usage: 9.3+ MB\n"
     ]
    }
   ],
   "source": [
    "data.info()  "
   ]
  },
  {
   "cell_type": "code",
   "execution_count": 22,
   "metadata": {},
   "outputs": [
    {
     "data": {
      "text/plain": [
       "user_id      0\n",
       "revenue      0\n",
       "testgroup    0\n",
       "dtype: int64"
      ]
     },
     "execution_count": 22,
     "metadata": {},
     "output_type": "execute_result"
    }
   ],
   "source": [
    "# Проверка на пропущенные значения\n",
    "data.isnull().sum()"
   ]
  },
  {
   "cell_type": "code",
   "execution_count": 23,
   "metadata": {},
   "outputs": [
    {
     "data": {
      "text/plain": [
       "0"
      ]
     },
     "execution_count": 23,
     "metadata": {},
     "output_type": "execute_result"
    }
   ],
   "source": [
    "# Проверка на дубликаты\n",
    "data.duplicated().sum()"
   ]
  },
  {
   "cell_type": "code",
   "execution_count": null,
   "metadata": {},
   "outputs": [],
   "source": [
    "3. Расчет результатов A/B теста для тестовой и контрольной групп"
   ]
  },
  {
   "cell_type": "code",
   "execution_count": 24,
   "metadata": {},
   "outputs": [],
   "source": [
    "# Разделяем данные на контрольную и тестовую группы\n",
    "group_a = data[data['testgroup'] == 'a']\n",
    "group_b = data[data['testgroup'] == 'b']\n",
    "\n",
    "# Фильтрация пользователей с revenue > 0\n",
    "group_a_paying = group_a[group_a['revenue'] > 0]\n",
    "group_b_paying = group_b[group_b['revenue'] > 0]\n"
   ]
  },
  {
   "cell_type": "code",
   "execution_count": 25,
   "metadata": {},
   "outputs": [
    {
     "name": "stdout",
     "output_type": "stream",
     "text": [
      "Контрольная группа (A): CR = 0.95%\n",
      "Контрольная группа (A): ARPU = 25.41\n",
      "Контрольная группа (A): ARPPU = 2664.00\n",
      "Контрольная группа (A): Платящие пользователи = 1928/202103\n"
     ]
    }
   ],
   "source": [
    "# Расчет метрик для контрольной группы (группа A)\n",
    "control_users = group_a['user_id'].nunique()  # Общее количество пользователей\n",
    "control_paying_users = group_a_paying['user_id'].nunique()  # Количество платящих пользователей\n",
    "control_revenue = group_a['revenue'].sum()  # Общая выручка\n",
    "\n",
    "if control_users > 0:\n",
    "    control_cr = control_paying_users / control_users  # Конверсия\n",
    "    control_arpu = control_revenue / control_users  # ARPU\n",
    "else:\n",
    "    control_cr = 0\n",
    "    control_arpu = 0\n",
    "\n",
    "if control_paying_users > 0:\n",
    "    control_arppu = control_revenue / control_paying_users  # ARPPU\n",
    "else:\n",
    "    control_arppu = 0\n",
    "\n",
    "# Вывод результатов\n",
    "print(f\"Контрольная группа (A): CR = {control_cr:.2%}\")\n",
    "print(f\"Контрольная группа (A): ARPU = {control_arpu:.2f}\")\n",
    "print(f\"Контрольная группа (A): ARPPU = {control_arppu:.2f}\")\n",
    "print(f\"Контрольная группа (A): Платящие пользователи = {control_paying_users}/{control_users}\")   \n"
   ]
  },
  {
   "cell_type": "code",
   "execution_count": 26,
   "metadata": {},
   "outputs": [
    {
     "name": "stdout",
     "output_type": "stream",
     "text": [
      "Тестовая группа (B): CR = 0.89%\n",
      "Тестовая группа (B): ARPU = 26.75\n",
      "Тестовая группа (B): ARPPU = 3003.66\n",
      "Тестовая группа (B): Платящие пользователи = 1805/202667\n"
     ]
    }
   ],
   "source": [
    "# Расчет метрик для тестовой группы (группа B)\n",
    "test_users = group_b['user_id'].nunique()  # Общее количество пользователей\n",
    "test_paying_users = group_b_paying['user_id'].nunique()  # Количество платящих пользователей\n",
    "test_revenue = group_b['revenue'].sum()  # Общая выручка\n",
    "\n",
    "if test_users > 0:\n",
    "    test_cr = test_paying_users / test_users  # Конверсия\n",
    "    test_arpu = test_revenue / test_users  # ARPU\n",
    "else:\n",
    "    test_cr = 0\n",
    "    test_arpu = 0\n",
    "\n",
    "if test_paying_users > 0:\n",
    "    test_arppu = test_revenue / test_paying_users  # ARPPU\n",
    "else:\n",
    "    test_arppu = 0\n",
    "\n",
    "# Вывод результатов\n",
    "print(f\"Тестовая группа (B): CR = {test_cr:.2%}\") \n",
    "print(f\"Тестовая группа (B): ARPU = {test_arpu:.2f}\")\n",
    "print(f\"Тестовая группа (B): ARPPU = {test_arppu:.2f}\")\n",
    "print(f\"Тестовая группа (B): Платящие пользователи = {test_paying_users}/{test_users}\")\n"
   ]
  },
  {
   "cell_type": "code",
   "execution_count": 27,
   "metadata": {},
   "outputs": [
    {
     "data": {
      "image/png": "[encoded data removed]",
      "text/plain": [
       "<Figure size 576x864 with 3 Axes>"
      ]
     },
     "metadata": {
      "needs_background": "light"
     },
     "output_type": "display_data"
    }
   ],
   "source": [
    "# Подготовка данных для графиков\n",
    "labels = ['Контрольная группа (A)', 'Тестовая группа (B)']\n",
    "cr_values = [control_cr, test_cr]\n",
    "arpu_values = [control_arpu, test_arpu]\n",
    "arppu_values = [control_arppu, test_arppu]\n",
    "\n",
    "# Создание графиков\n",
    "x = np.arange(len(labels))  # Место для групп\n",
    "\n",
    "# Настройка графиков\n",
    "fig, axs = plt.subplots(3, 1, figsize=(8, 12))\n",
    "\n",
    "# График для CR\n",
    "axs[0].bar(x, cr_values, color=['blue', 'orange'])\n",
    "axs[0].set_title('Конверсия (CR)')\n",
    "axs[0].set_ylabel('Конверсия')\n",
    "axs[0].set_xticks(x)\n",
    "axs[0].set_xticklabels(labels)\n",
    "axs[0].set_ylim(0, 0.01)  # Установка пределов по оси Y\n",
    "axs[0].yaxis.set_major_formatter(plt.FuncFormatter(lambda y, _: f'{y:.1%}'))  # Форматирование Y в проценты\n",
    "\n",
    "# График для ARPU\n",
    "axs[1].bar(x, arpu_values, color=['blue', 'orange'])\n",
    "axs[1].set_title('Средний доход на пользователя (ARPU)')\n",
    "axs[1].set_ylabel('ARPU')\n",
    "axs[1].set_xticks(x)\n",
    "axs[1].set_xticklabels(labels)\n",
    "\n",
    "# График для ARPPU\n",
    "axs[2].bar(x, arppu_values, color=['blue', 'orange'])\n",
    "axs[2].set_title('Средний доход на платящего пользователя (ARPPU)')\n",
    "axs[2].set_ylabel('ARPPU')\n",
    "axs[2].set_xticks(x)\n",
    "axs[2].set_xticklabels(labels)\n",
    "\n",
    "# Отображение графиков\n",
    "plt.tight_layout()\n",
    "plt.show()"
   ]
  },
  {
   "cell_type": "code",
   "execution_count": null,
   "metadata": {},
   "outputs": [],
   "source": [
    "4. Проверка статистической значимости"
   ]
  },
  {
   "cell_type": "code",
   "execution_count": 28,
   "metadata": {},
   "outputs": [
    {
     "name": "stdout",
     "output_type": "stream",
     "text": [
      "Хи-квадрат: 4.37, P-Value: 0.0365\n",
      "Различия в конверсии статистически значимы.\n"
     ]
    }
   ],
   "source": [
    "# Проверка статистической значимости для CR (хи-квадрат)\n",
    "\n",
    "# Создаем таблицу сопряженности для платящих и неплатящих пользователей\n",
    "contingency_table = pd.DataFrame({\n",
    "    'Платящие': [control_paying_users, test_paying_users],  # Количество платящих пользователей в контрольной и тестовой группах\n",
    "    'Неплатящие': [control_users - control_paying_users, test_users - test_paying_users]  # Количество неплатящих пользователей\n",
    "})\n",
    "\n",
    "# Выполняем тест хи-квадрат для проверки независимости\n",
    "# chi2 - значение статистики хи-квадрат, p_chi2 - p-значение\n",
    "chi2, p_chi2, _, _ = stats.chi2_contingency(contingency_table)\n",
    "\n",
    "print(f\"Хи-квадрат: {chi2:.2f}, P-Value: {p_chi2:.4f}\")\n",
    "\n",
    "# Интерпретация результатов\n",
    "if p_chi2 < 0.05:\n",
    "    print(\"Различия в конверсии статистически значимы.\")\n",
    "else:\n",
    "    print(\"Различия в конверсии не статистически значимы.\")\n"
   ]
  },
  {
   "cell_type": "code",
   "execution_count": 29,
   "metadata": {},
   "outputs": [
    {
     "name": "stdout",
     "output_type": "stream",
     "text": [
      "T-критерий: -0.62, P-Value: 0.5330\n",
      "Различия в ARPU не статистически значимы.\n"
     ]
    }
   ],
   "source": [
    "# Проверка статистической значимости для ARPU (t-критерий)\n",
    "\n",
    "control_revenue_data = group_a['revenue']  # Данные о выручке для контрольной группы\n",
    "test_revenue_data = group_b['revenue']     # Данные о выручке для тестовой группы\n",
    "\n",
    "# Выполняем t-тест для независимых выборок\n",
    "# equal_var=False указывает, что мы не предполагаем равенство дисперсий в двух группах\n",
    "t_stat, p_t = stats.ttest_ind(control_revenue_data, test_revenue_data, equal_var=False)\n",
    "\n",
    "print(f\"T-критерий: {t_stat:.2f}, P-Value: {p_t:.4f}\")\n",
    "\n",
    "# Интерпретация результатов\n",
    "if p_t < 0.05:\n",
    "    print(\"Различия в ARPU статистически значимы.\")\n",
    "else:\n",
    "    print(\"Различия в ARPU не статистически значимы.\")\n"
   ]
  },
  {
   "cell_type": "code",
   "execution_count": 30,
   "metadata": {},
   "outputs": [
    {
     "name": "stdout",
     "output_type": "stream",
     "text": [
      "T-критерий: -1.64, P-Value: 0.1002\n",
      "Различия в ARPPU не статистически значимы.\n"
     ]
    }
   ],
   "source": [
    "# Проверка статистической значимости для ARPPU (t-критерий)\n",
    "\n",
    "# Данные о выручке от платящих пользователей для контрольной и тестовой групп\n",
    "control_revenue_data = group_a_paying['revenue']  # Выручка от платящих пользователей в контрольной группе\n",
    "test_revenue_data = group_b_paying['revenue']      # Выручка от платящих пользователей в тестовой группе\n",
    "\n",
    "# Проверка статистической значимости с использованием t-критерия\n",
    "# equal_var=False указывает, что мы не предполагаем равенство дисперсий в двух группах\n",
    "t_stat, p_t = stats.ttest_ind(control_revenue_data, test_revenue_data, equal_var=False)\n",
    "\n",
    "print(f\"T-критерий: {t_stat:.2f}, P-Value: {p_t:.4f}\")\n",
    "\n",
    "# Интерпретация результатов\n",
    "if p_t < 0.05:\n",
    "    print(\"Различия в ARPPU статистически значимы.\")\n",
    "else:\n",
    "    print(\"Различия в ARPPU не статистически значимы.\")\n",
    "\n"
   ]
  },
  {
   "cell_type": "code",
   "execution_count": null,
   "metadata": {},
   "outputs": [],
   "source": [
    "Объяснение выбора t-критерия:\n",
    "    \n",
    "Доходы пользователей — случайные величины из одного и того же распределения, необязательно нормального. \n",
    "    При условии, что пользователи независимы, существует центральная предельная теорема, говорящая нам о том, \n",
    "    что среднее значение метрики по достаточно большой выборке пользователей будет иметь нормальное распределение. \n",
    "    Именно это и использует z-критерий (сравнивая значения z-оценки с точками на этом распределении), и именно\n",
    "    распределение средних и должно быть нормальным для t-теста. \n",
    "Это важный результат, который следует учитывать: в центральной предельной теореме нет требований к распределению \n",
    "    самой метрики, поэтому не следует ожидать нормальности входных данных для применения z- и t-тестов.\n"
   ]
  },
  {
   "cell_type": "code",
   "execution_count": null,
   "metadata": {},
   "outputs": [],
   "source": [
    "5. Выводы\n",
    "\n",
    "На основе проведенного A/B-теста и анализа полученных данных можно сделать следующие выводы.\n",
    "В контрольной группе (A) конверсия (CR) составила 0.95%, в то время как в тестовой группе (B) она снизилась \n",
    "до 0.89%. Результаты проверки статистической значимости для конверсии показали, что различия являются статистически \n",
    "значимыми (хи-квадрат: 4.37, P-Value: 0.0365). Это указывает на то, что изменение в конверсии между группами \n",
    "не является случайным и может быть связано с изменениями, внесенными в тестовую группу.\n",
    "\n",
    "Что касается среднего дохода на пользователя (ARPU), то в контрольной группе он составил 25.41, а в тестовой \n",
    "группе — 26.75. Однако результаты проверки статистической значимости (t-критерий: -0.62, P-Value: 0.5330) \n",
    "показали, что различия в ARPU не являются статистически значимыми. Аналогично, средний доход на платящего \n",
    "пользователя (ARPPU) в контрольной группе составил 2664.00, а в тестовой группе — 3003.66, но различия также не \n",
    "достигли статистической значимости (t-критерий: -1.64, P-Value: 0.1002).\n",
    "\n",
    "Таким образом, несмотря на то, что тестовая группа (B) показала более высокий ARPU и ARPPU, снижение конверсии \n",
    "(CR) является значительным и указывает на ухудшение ключевой метрики.\n",
    "\n",
    "Главный вопрос: Можно ли считать эксперимент удачным и выкатывать новый вариант (B) на всех?\n",
    "Ответ: Нет. Снижение конверсии в тестовой группе является статистически значимым, что свидетельствует о том, \n",
    "    что новый вариант не только не улучшает, но и ухудшает общую эффективность. Рекомендуется оставить текущую \n",
    "    версию (A). "
   ]
  },
  {
   "cell_type": "code",
   "execution_count": null,
   "metadata": {},
   "outputs": [],
   "source": [
    "Задание 3\n",
    "В игре Plants & Gardens каждый месяц проводятся тематические события, ограниченные по времени. В них игроки могут получить \n",
    "уникальные предметы для сада и персонажей, дополнительные монеты или бонусы. Для получения награды требуется пройти ряд \n",
    "уровней за определенное время. С помощью каких метрик можно оценить результаты последнего прошедшего события?\n",
    "\n",
    "Предположим, в другом событии мы усложнили механику событий так, что при каждой неудачной попытке выполнения уровня игрок \n",
    "будет откатываться на несколько уровней назад. Изменится ли набор метрик оценки результата? Если да, то как?"
   ]
  },
  {
   "cell_type": "code",
   "execution_count": null,
   "metadata": {},
   "outputs": [],
   "source": [
    "1. Метрики для оценки результатов события\n",
    "\n",
    "1.1 Уровень участия (Participation Rate):\n",
    "Процент игроков, которые приняли участие в событии по сравнению с общим числом игроков. Это поможет понять, насколько событие \n",
    "было привлекательным.\n",
    "\n",
    "1.2 Процент завершения (Completion Rate):\n",
    "Доля игроков, которые успешно завершили событие и получили награды. Это поможет оценить сложность события и его \n",
    "привлекательность.\n",
    "\n",
    "1.3 Среднее время прохождения (Average Completion Time):\n",
    "Среднее время, затраченное игроками на завершение события. Это может помочь понять, насколько время, отведенное на событие, \n",
    "было адекватным.\n",
    "\n",
    "1.4 Количество попыток (Attempts):\n",
    "Среднее количество попыток, необходимых игрокам для завершения уровней события. Это может дать представление о сложности \n",
    "уровней.\n",
    "\n",
    "1.5 Награды и их использование (Rewards Utilization):\n",
    "Процент игроков, которые использовали полученные награды после завершения события. Это поможет понять, насколько ценные \n",
    "награды для игроков.\n",
    "\n",
    "1.6 Обратная связь от игроков (Player Feedback):\n",
    "Опросы или отзывы игроков о событии. Это может дать качественные данные о том, что понравилось или не понравилось игрокам.\n"
   ]
  },
  {
   "cell_type": "code",
   "execution_count": null,
   "metadata": {},
   "outputs": [],
   "source": [
    "2. Изменения в наборе метрик при усложнении механики\n",
    "\n",
    "Если в следующем событии усложняется механика, и при каждой неудачной попытке игрок откатывается на несколько уровней назад, \n",
    "набор метрик может измениться следующим образом:\n",
    "\n",
    "2.1 Уровень откатов (Rollback Rate):\n",
    "Количество откатов, которые игроки испытывают в процессе прохождения уровней. Это поможет оценить, насколько новая механика \n",
    "влияет на игровой процесс.\n",
    "\n",
    "2.2 Процент успешных попыток (Success Rate):\n",
    "Доля успешных попыток по сравнению с общим числом попыток. Это поможет понять, насколько игроки справляются с новыми условиями.\n",
    "\n",
    "2.3 Среднее количество откатов (Average Rollbacks):\n",
    "Среднее количество откатов, которые игроки испытывают за событие. Это может помочь оценить, насколько новая механика усложняет \n",
    "игру.\n",
    "\n",
    "2.4 Время на откат (Rollback Time):\n",
    "Среднее время, затраченное игроками на возвращение к предыдущим уровням после откатов. Это может дать представление о том, \n",
    "как новая механика влияет на общее время прохождения события.\n",
    "\n",
    "2.5 Изменение в уровне участия (Participation Change):\n",
    "Сравнение уровня участия в событиях до и после изменения механики. Это поможет понять, как изменения повлияли на интерес \n",
    "игроков.\n",
    "\n",
    "2.6 Обратная связь о механике откатов (Rollback Feedback):\n",
    "Сбор отзывов игроков о новой механике откатов. Это поможет понять, как игроки воспринимают изменения и насколько они влияют \n",
    "на их опыт.\n"
   ]
  },
  {
   "cell_type": "code",
   "execution_count": null,
   "metadata": {},
   "outputs": [],
   "source": [
    "3. Выводы\n",
    "\n",
    "Таким образом, при оценке результатов тематических событий в игре можно использовать различные метрики, которые помогут \n",
    "понять, насколько успешно прошло событие и как игроки взаимодействовали с ним. При изменении механики событий, особенно если \n",
    "она усложняется, набор метрик может измениться, чтобы учесть новые аспекты игрового процесса и взаимодействия игроков."
   ]
  }
 ],
 "metadata": {
  "kernelspec": {
   "display_name": "Python 3",
   "language": "python",
   "name": "python3"
  },
  "language_info": {
   "codemirror_mode": {
    "name": "ipython",
    "version": 3
   },
   "file_extension": ".py",
   "mimetype": "text/x-python",
   "name": "python",
   "nbconvert_exporter": "python",
   "pygments_lexer": "ipython3",
   "version": "3.7.3"
  }
 },
 "nbformat": 4,
 "nbformat_minor": 4
}
